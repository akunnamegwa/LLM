{
 "cells": [
  {
   "cell_type": "markdown",
   "id": "b44c6a89",
   "metadata": {},
   "source": [
    "Based on Chapter Two of Build a Large Language Model (From Scratch) by  Sebastian Raschka\n",
    "Processing "
   ]
  },
  {
   "cell_type": "code",
   "execution_count": null,
   "id": "1a966bf3",
   "metadata": {},
   "outputs": [],
   "source": [
    "import urllib.request\n",
    "url = (\"https://raw.githubusercontent.com/rasbt/\"\n",
    "    \"LLMs-from-scratch/main/ch02/01_main-chapter-code/\"\n",
    "    \"the-verdict.txt\")\n",
    "file_path = \"the-verdict.txt\"\n",
    "urllib.request.urlretrieve(url, file_path)"
   ]
  }
 ],
 "metadata": {
  "kernelspec": {
   "display_name": "csc320a3",
   "language": "python",
   "name": "python3"
  },
  "language_info": {
   "name": "python",
   "version": "3.11.8"
  }
 },
 "nbformat": 4,
 "nbformat_minor": 5
}
